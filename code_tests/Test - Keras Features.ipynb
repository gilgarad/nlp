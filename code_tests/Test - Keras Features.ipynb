{
 "cells": [
  {
   "cell_type": "markdown",
   "metadata": {},
   "source": [
    "# 이 쥬피터 노트북은 Keras의 기능을 정확히 알고 이해하기 위해 테스트하기 위해 생성되었습니다."
   ]
  },
  {
   "cell_type": "markdown",
   "metadata": {},
   "source": [
    "# Embedding test"
   ]
  },
  {
   "cell_type": "code",
   "execution_count": 15,
   "metadata": {},
   "outputs": [],
   "source": [
    "from keras.layers import Embedding\n",
    "from keras.models import Sequential\n",
    "from keras.constraints import MinMaxNorm\n",
    "from keras.initializers import RandomUniform\n",
    "\n",
    "import numpy as np"
   ]
  },
  {
   "cell_type": "code",
   "execution_count": 18,
   "metadata": {},
   "outputs": [],
   "source": [
    "model = Sequential()\n",
    "model.add(Embedding(1000, 64, \n",
    "#                     embeddings_constraint=MinMaxNorm(min_value=0.0, max_value=1.0, axis=1),\n",
    "                    embeddings_initializer=RandomUniform(minval=0.0, maxval=1.0),\n",
    "                    input_length=10))\n",
    "# the model will take as input an integer matrix of size (batch, input_length).\n",
    "# the largest integer (i.e. word index) in the input should be\n",
    "# no larger than 999 (vocabulary size).\n",
    "# now model.output_shape == (None, 10, 64), where None is the batch dimension.\n",
    "\n",
    "input_array = np.random.randint(1000, size=(32, 10))\n",
    "\n",
    "model.compile('rmsprop', 'mse')\n",
    "output_array = model.predict(input_array)\n",
    "assert output_array.shape == (32, 10, 64)"
   ]
  },
  {
   "cell_type": "code",
   "execution_count": 19,
   "metadata": {
    "scrolled": true
   },
   "outputs": [
    {
     "data": {
      "text/plain": [
       "array([[[0.09222102, 0.5878209 , 0.18674517, ..., 0.9334879 ,\n",
       "         0.3783021 , 0.30190313],\n",
       "        [0.27557755, 0.922205  , 0.59224284, ..., 0.63351727,\n",
       "         0.31549442, 0.6149924 ],\n",
       "        [0.1291343 , 0.7746289 , 0.41895533, ..., 0.8637204 ,\n",
       "         0.94625974, 0.60956407],\n",
       "        ...,\n",
       "        [0.13277078, 0.9567723 , 0.28050184, ..., 0.31227982,\n",
       "         0.45570648, 0.12249959],\n",
       "        [0.7117882 , 0.43718553, 0.3312415 , ..., 0.04832101,\n",
       "         0.0699507 , 0.720222  ],\n",
       "        [0.11619294, 0.251822  , 0.48438454, ..., 0.5212587 ,\n",
       "         0.9755002 , 0.18777192]],\n",
       "\n",
       "       [[0.03828454, 0.12515783, 0.24206626, ..., 0.04928219,\n",
       "         0.04028773, 0.69018126],\n",
       "        [0.94320023, 0.94497025, 0.74802744, ..., 0.58057475,\n",
       "         0.5958452 , 0.34266198],\n",
       "        [0.49543047, 0.31238997, 0.92750704, ..., 0.11330009,\n",
       "         0.36783922, 0.77677214],\n",
       "        ...,\n",
       "        [0.5720235 , 0.24930668, 0.62350464, ..., 0.47211063,\n",
       "         0.92909706, 0.66098094],\n",
       "        [0.628824  , 0.74802303, 0.6489918 , ..., 0.5894855 ,\n",
       "         0.7561505 , 0.5231744 ],\n",
       "        [0.59989345, 0.80064785, 0.26685977, ..., 0.99829495,\n",
       "         0.51620674, 0.90852857]],\n",
       "\n",
       "       [[0.8145751 , 0.19180131, 0.5065106 , ..., 0.61180174,\n",
       "         0.2611767 , 0.5479592 ],\n",
       "        [0.4718423 , 0.67457426, 0.33326197, ..., 0.01314771,\n",
       "         0.7061651 , 0.92710364],\n",
       "        [0.7753043 , 0.6899165 , 0.08311927, ..., 0.4520836 ,\n",
       "         0.79087126, 0.70020294],\n",
       "        ...,\n",
       "        [0.9662478 , 0.02441061, 0.8044853 , ..., 0.32217646,\n",
       "         0.634532  , 0.71959686],\n",
       "        [0.8149264 , 0.7751695 , 0.6267358 , ..., 0.90896595,\n",
       "         0.50002503, 0.91487014],\n",
       "        [0.6632314 , 0.76853156, 0.848371  , ..., 0.447806  ,\n",
       "         0.34606445, 0.76081395]],\n",
       "\n",
       "       ...,\n",
       "\n",
       "       [[0.33252096, 0.25466228, 0.31301653, ..., 0.06387663,\n",
       "         0.68556607, 0.7798815 ],\n",
       "        [0.7416377 , 0.48983788, 0.09277797, ..., 0.48134685,\n",
       "         0.60682833, 0.34453273],\n",
       "        [0.9003682 , 0.02880967, 0.17860699, ..., 0.29893696,\n",
       "         0.47131753, 0.94397974],\n",
       "        ...,\n",
       "        [0.79141474, 0.669783  , 0.9783747 , ..., 0.36447334,\n",
       "         0.9779842 , 0.8580595 ],\n",
       "        [0.3112843 , 0.01340342, 0.55146956, ..., 0.08557808,\n",
       "         0.35585582, 0.67574906],\n",
       "        [0.67885804, 0.40499043, 0.8140111 , ..., 0.05943632,\n",
       "         0.39263618, 0.26628745]],\n",
       "\n",
       "       [[0.77660084, 0.94689894, 0.34254575, ..., 0.6607449 ,\n",
       "         0.65731204, 0.94055796],\n",
       "        [0.6887809 , 0.28862286, 0.4977628 , ..., 0.8821664 ,\n",
       "         0.45805776, 0.8110945 ],\n",
       "        [0.7144623 , 0.2761966 , 0.91191196, ..., 0.3812896 ,\n",
       "         0.2077446 , 0.9656291 ],\n",
       "        ...,\n",
       "        [0.4943707 , 0.30835092, 0.571906  , ..., 0.5543755 ,\n",
       "         0.41653776, 0.2670735 ],\n",
       "        [0.0952034 , 0.9700633 , 0.64999545, ..., 0.8073523 ,\n",
       "         0.3967098 , 0.1538266 ],\n",
       "        [0.8894683 , 0.5721655 , 0.69148433, ..., 0.80172026,\n",
       "         0.12169909, 0.97127295]],\n",
       "\n",
       "       [[0.7379377 , 0.72930455, 0.38486004, ..., 0.92953527,\n",
       "         0.14824963, 0.8631551 ],\n",
       "        [0.5866653 , 0.74428177, 0.6091907 , ..., 0.4431013 ,\n",
       "         0.9732901 , 0.12841642],\n",
       "        [0.33294702, 0.10587788, 0.05352294, ..., 0.16586578,\n",
       "         0.72614026, 0.3559277 ],\n",
       "        ...,\n",
       "        [0.71733403, 0.27583897, 0.9735888 , ..., 0.26464415,\n",
       "         0.8645092 , 0.6370832 ],\n",
       "        [0.4943707 , 0.30835092, 0.571906  , ..., 0.5543755 ,\n",
       "         0.41653776, 0.2670735 ],\n",
       "        [0.3837341 , 0.51379526, 0.8579961 , ..., 0.33299088,\n",
       "         0.01943314, 0.5006981 ]]], dtype=float32)"
      ]
     },
     "execution_count": 19,
     "metadata": {},
     "output_type": "execute_result"
    }
   ],
   "source": [
    "output_array"
   ]
  },
  {
   "cell_type": "markdown",
   "metadata": {},
   "source": [
    "# Lambda Test"
   ]
  },
  {
   "cell_type": "code",
   "execution_count": 1,
   "metadata": {},
   "outputs": [
    {
     "name": "stderr",
     "output_type": "stream",
     "text": [
      "Using TensorFlow backend.\n"
     ]
    }
   ],
   "source": [
    "from keras.models import Sequential, Model\n",
    "from keras.layers import Lambda, Input, Concatenate, TimeDistributed, Dense\n",
    "import keras.backend.tensorflow_backend as K\n",
    "import numpy as np"
   ]
  },
  {
   "cell_type": "code",
   "execution_count": 4,
   "metadata": {},
   "outputs": [],
   "source": [
    "seq_length = 3\n",
    "latent_dim = 2\n",
    "input_array = np.random.randint(10, size=(1, seq_length, latent_dim))"
   ]
  },
  {
   "cell_type": "code",
   "execution_count": 5,
   "metadata": {},
   "outputs": [
    {
     "data": {
      "text/plain": [
       "array([[[2, 2],\n",
       "        [6, 3],\n",
       "        [7, 1]]])"
      ]
     },
     "execution_count": 5,
     "metadata": {},
     "output_type": "execute_result"
    }
   ],
   "source": [
    "input_array"
   ]
  },
  {
   "cell_type": "code",
   "execution_count": 6,
   "metadata": {},
   "outputs": [],
   "source": [
    "axis = 2\n",
    "def antirectifier(x):\n",
    "    \n",
    "    return x ** 2\n",
    "\n",
    "def antirectifier_output_shape(x):\n",
    "    return tuple((x[0], ) + x[1:axis] + (seq_length, ) + x[axis:])"
   ]
  },
  {
   "cell_type": "code",
   "execution_count": 7,
   "metadata": {
    "scrolled": true
   },
   "outputs": [],
   "source": [
    "model = Sequential()\n",
    "model.add(Lambda(antirectifier, antirectifier_output_shape))\n",
    "# model.add(Lambda(antirectifier))\n",
    "model.compile(optimizer='rmsprop', loss='mse')\n",
    "\n",
    "\n",
    "output_array = model.predict(input_array)"
   ]
  },
  {
   "cell_type": "code",
   "execution_count": 8,
   "metadata": {},
   "outputs": [
    {
     "name": "stdout",
     "output_type": "stream",
     "text": [
      "[2 2] -> [4. 4.]\n",
      "[6 3] -> [36.  9.]\n",
      "[7 1] -> [49.  1.]\n"
     ]
    }
   ],
   "source": [
    "for a, b in zip(input_array[0], output_array[0]):\n",
    "    print(a, '->',  b)"
   ]
  },
  {
   "cell_type": "markdown",
   "metadata": {},
   "source": [
    "# Repeat Vector Layer"
   ]
  },
  {
   "cell_type": "code",
   "execution_count": 9,
   "metadata": {},
   "outputs": [],
   "source": [
    "def RepeatVectorLayer(rep, axis):\n",
    "#     print(axis)\n",
    "    return lambda x: K.repeat_elements(K.expand_dims(x, axis), rep, axis)\n",
    "#     return K.repeat_elements(K.expand_dims(x, axis), rep, axis)"
   ]
  },
  {
   "cell_type": "code",
   "execution_count": 78,
   "metadata": {},
   "outputs": [
    {
     "name": "stdout",
     "output_type": "stream",
     "text": [
      "(?, 3, 3, 2)\n",
      "(?, 3, 3, 2)\n"
     ]
    }
   ],
   "source": [
    "inputs = Input(shape=(seq_length, latent_dim))\n",
    "repeat_d = Lambda(RepeatVectorLayer(seq_length, 2))(inputs)\n",
    "print(repeat_d.get_shape())\n",
    "repeat_e = Lambda(RepeatVectorLayer(seq_length, 1))(inputs)\n",
    "print(repeat_e.get_shape())\n",
    "outputs = Concatenate()([repeat_d, repeat_e])\n",
    "model = Model(inputs=inputs, outputs=outputs)\n",
    "model.compile(optimizer='rmsprop', loss='mse')\n",
    "output_array = model.predict(input_array)"
   ]
  },
  {
   "cell_type": "code",
   "execution_count": 11,
   "metadata": {
    "scrolled": true
   },
   "outputs": [
    {
     "name": "stdout",
     "output_type": "stream",
     "text": [
      "[2 2] -> [[2. 2. 2. 2.]\n",
      " [2. 2. 6. 3.]\n",
      " [2. 2. 7. 1.]]\n",
      "[6 3] -> [[6. 3. 2. 2.]\n",
      " [6. 3. 6. 3.]\n",
      " [6. 3. 7. 1.]]\n",
      "[7 1] -> [[7. 1. 2. 2.]\n",
      " [7. 1. 6. 3.]\n",
      " [7. 1. 7. 1.]]\n"
     ]
    }
   ],
   "source": [
    "for a, b in zip(input_array[0], output_array[0]):\n",
    "    print(a, '->',  b)"
   ]
  },
  {
   "cell_type": "code",
   "execution_count": 12,
   "metadata": {},
   "outputs": [
    {
     "name": "stdout",
     "output_type": "stream",
     "text": [
      "(1, 3, 2)\n",
      "(1, 3, 3, 4)\n"
     ]
    }
   ],
   "source": [
    "print(input_array.shape)\n",
    "print(output_array.shape)"
   ]
  },
  {
   "cell_type": "markdown",
   "metadata": {},
   "source": [
    "# RepeatVector from Keras"
   ]
  },
  {
   "cell_type": "code",
   "execution_count": 72,
   "metadata": {},
   "outputs": [],
   "source": [
    "from keras.layers import RepeatVector, Reshape, Permute, TimeDistributed, concatenate, merge"
   ]
  },
  {
   "cell_type": "code",
   "execution_count": null,
   "metadata": {},
   "outputs": [],
   "source": []
  },
  {
   "cell_type": "code",
   "execution_count": 95,
   "metadata": {
    "scrolled": true
   },
   "outputs": [
    {
     "name": "stdout",
     "output_type": "stream",
     "text": [
      "(?, 6)\n",
      "(?, 3, 3, 2)\n",
      "(?, 3, 3, 2)\n"
     ]
    },
    {
     "ename": "TypeError",
     "evalue": "unhashable type: 'Dimension'",
     "output_type": "error",
     "traceback": [
      "\u001b[1;31m---------------------------------------------------------------------------\u001b[0m",
      "\u001b[1;31mTypeError\u001b[0m                                 Traceback (most recent call last)",
      "\u001b[1;32m<ipython-input-95-11688d9ddbec>\u001b[0m in \u001b[0;36m<module>\u001b[1;34m\u001b[0m\n\u001b[0;32m     14\u001b[0m \u001b[0mprint\u001b[0m\u001b[1;33m(\u001b[0m\u001b[0mrepeat_e\u001b[0m\u001b[1;33m.\u001b[0m\u001b[0mget_shape\u001b[0m\u001b[1;33m(\u001b[0m\u001b[1;33m)\u001b[0m\u001b[1;33m)\u001b[0m\u001b[1;33m\u001b[0m\u001b[0m\n\u001b[0;32m     15\u001b[0m \u001b[1;33m\u001b[0m\u001b[0m\n\u001b[1;32m---> 16\u001b[1;33m \u001b[0moutputs\u001b[0m \u001b[1;33m=\u001b[0m \u001b[0mConcatenate\u001b[0m\u001b[1;33m(\u001b[0m\u001b[1;33m-\u001b[0m\u001b[1;36m1\u001b[0m\u001b[1;33m)\u001b[0m\u001b[1;33m(\u001b[0m\u001b[1;33m[\u001b[0m\u001b[0mrepeat_d\u001b[0m\u001b[1;33m,\u001b[0m \u001b[0mrepeat_e\u001b[0m\u001b[1;33m]\u001b[0m\u001b[1;33m)\u001b[0m\u001b[1;33m\u001b[0m\u001b[0m\n\u001b[0m\u001b[0;32m     17\u001b[0m \u001b[0mmodel\u001b[0m \u001b[1;33m=\u001b[0m \u001b[0mModel\u001b[0m\u001b[1;33m(\u001b[0m\u001b[0minputs\u001b[0m\u001b[1;33m=\u001b[0m\u001b[0minputs\u001b[0m\u001b[1;33m,\u001b[0m \u001b[0moutputs\u001b[0m\u001b[1;33m=\u001b[0m\u001b[0moutputs\u001b[0m\u001b[1;33m)\u001b[0m\u001b[1;33m\u001b[0m\u001b[0m\n\u001b[0;32m     18\u001b[0m \u001b[0mmodel\u001b[0m\u001b[1;33m.\u001b[0m\u001b[0mcompile\u001b[0m\u001b[1;33m(\u001b[0m\u001b[0moptimizer\u001b[0m\u001b[1;33m=\u001b[0m\u001b[1;34m'rmsprop'\u001b[0m\u001b[1;33m,\u001b[0m \u001b[0mloss\u001b[0m\u001b[1;33m=\u001b[0m\u001b[1;34m'mse'\u001b[0m\u001b[1;33m)\u001b[0m\u001b[1;33m\u001b[0m\u001b[0m\n",
      "\u001b[1;32md:\\igs_projects\\nlp_nlu\\venv\\lib\\site-packages\\keras\\engine\\base_layer.py\u001b[0m in \u001b[0;36m__call__\u001b[1;34m(self, inputs, **kwargs)\u001b[0m\n\u001b[0;32m    429\u001b[0m                                          \u001b[1;34m'You can build it manually via: '\u001b[0m\u001b[1;33m\u001b[0m\u001b[0m\n\u001b[0;32m    430\u001b[0m                                          '`layer.build(batch_input_shape)`')\n\u001b[1;32m--> 431\u001b[1;33m                 \u001b[0mself\u001b[0m\u001b[1;33m.\u001b[0m\u001b[0mbuild\u001b[0m\u001b[1;33m(\u001b[0m\u001b[0munpack_singleton\u001b[0m\u001b[1;33m(\u001b[0m\u001b[0minput_shapes\u001b[0m\u001b[1;33m)\u001b[0m\u001b[1;33m)\u001b[0m\u001b[1;33m\u001b[0m\u001b[0m\n\u001b[0m\u001b[0;32m    432\u001b[0m                 \u001b[0mself\u001b[0m\u001b[1;33m.\u001b[0m\u001b[0mbuilt\u001b[0m \u001b[1;33m=\u001b[0m \u001b[1;32mTrue\u001b[0m\u001b[1;33m\u001b[0m\u001b[0m\n\u001b[0;32m    433\u001b[0m \u001b[1;33m\u001b[0m\u001b[0m\n",
      "\u001b[1;32md:\\igs_projects\\nlp_nlu\\venv\\lib\\site-packages\\keras\\layers\\merge.py\u001b[0m in \u001b[0;36mbuild\u001b[1;34m(self, input_shape)\u001b[0m\n\u001b[0;32m    355\u001b[0m         \u001b[1;32mfor\u001b[0m \u001b[0mi\u001b[0m \u001b[1;32min\u001b[0m \u001b[0mrange\u001b[0m\u001b[1;33m(\u001b[0m\u001b[0mlen\u001b[0m\u001b[1;33m(\u001b[0m\u001b[0mreduced_inputs_shapes\u001b[0m\u001b[1;33m)\u001b[0m\u001b[1;33m)\u001b[0m\u001b[1;33m:\u001b[0m\u001b[1;33m\u001b[0m\u001b[0m\n\u001b[0;32m    356\u001b[0m             \u001b[1;32mdel\u001b[0m \u001b[0mreduced_inputs_shapes\u001b[0m\u001b[1;33m[\u001b[0m\u001b[0mi\u001b[0m\u001b[1;33m]\u001b[0m\u001b[1;33m[\u001b[0m\u001b[0mself\u001b[0m\u001b[1;33m.\u001b[0m\u001b[0maxis\u001b[0m\u001b[1;33m]\u001b[0m\u001b[1;33m\u001b[0m\u001b[0m\n\u001b[1;32m--> 357\u001b[1;33m             \u001b[0mshape_set\u001b[0m\u001b[1;33m.\u001b[0m\u001b[0madd\u001b[0m\u001b[1;33m(\u001b[0m\u001b[0mtuple\u001b[0m\u001b[1;33m(\u001b[0m\u001b[0mreduced_inputs_shapes\u001b[0m\u001b[1;33m[\u001b[0m\u001b[0mi\u001b[0m\u001b[1;33m]\u001b[0m\u001b[1;33m)\u001b[0m\u001b[1;33m)\u001b[0m\u001b[1;33m\u001b[0m\u001b[0m\n\u001b[0m\u001b[0;32m    358\u001b[0m         \u001b[1;32mif\u001b[0m \u001b[0mlen\u001b[0m\u001b[1;33m(\u001b[0m\u001b[0mshape_set\u001b[0m\u001b[1;33m)\u001b[0m \u001b[1;33m>\u001b[0m \u001b[1;36m1\u001b[0m\u001b[1;33m:\u001b[0m\u001b[1;33m\u001b[0m\u001b[0m\n\u001b[0;32m    359\u001b[0m             raise ValueError('A `Concatenate` layer requires '\n",
      "\u001b[1;31mTypeError\u001b[0m: unhashable type: 'Dimension'"
     ]
    }
   ],
   "source": [
    "inputs = Input(shape=(seq_length, latent_dim))\n",
    "reshaped_d_inputs = Reshape((inputs.get_shape()[1] * inputs.get_shape()[2], ))(inputs)\n",
    "print(reshaped_d_inputs.get_shape())\n",
    "repeat_d_repeat = RepeatVector(seq_length)(reshaped_d_inputs)\n",
    "repeat_d = Reshape((seq_length, inputs.get_shape()[1], inputs.get_shape()[2]))(repeat_d_repeat)\n",
    "print(repeat_d.get_shape())\n",
    "\n",
    "\n",
    "permuted_e = Permute((2, 1))(inputs)\n",
    "reshaped_e_inputs = Reshape((inputs.get_shape()[1] * inputs.get_shape()[2], ))(permuted_e)\n",
    "permuted_e_repeat = RepeatVector(seq_length)(reshaped_e_inputs)\n",
    "repeat_e = Reshape((seq_length, inputs.get_shape()[2], inputs.get_shape()[1]))(permuted_e_repeat)\n",
    "repeat_e = Permute((1, 3, 2))(repeat_e)\n",
    "print(repeat_e.get_shape())\n",
    "\n",
    "outputs = Concatenate(-1)([repeat_d, repeat_e])\n",
    "model = Model(inputs=inputs, outputs=outputs)\n",
    "model.compile(optimizer='rmsprop', loss='mse')\n",
    "output_array = model.predict(input_array)"
   ]
  },
  {
   "cell_type": "code",
   "execution_count": 120,
   "metadata": {
    "scrolled": true
   },
   "outputs": [
    {
     "ename": "AssertionError",
     "evalue": "",
     "output_type": "error",
     "traceback": [
      "\u001b[1;31m---------------------------------------------------------------------------\u001b[0m",
      "\u001b[1;31mAssertionError\u001b[0m                            Traceback (most recent call last)",
      "\u001b[1;32m<ipython-input-120-ac4c0662b0f7>\u001b[0m in \u001b[0;36m<module>\u001b[1;34m\u001b[0m\n\u001b[0;32m      1\u001b[0m \u001b[0minputs\u001b[0m \u001b[1;33m=\u001b[0m \u001b[0mInput\u001b[0m\u001b[1;33m(\u001b[0m\u001b[0mshape\u001b[0m\u001b[1;33m=\u001b[0m\u001b[1;33m(\u001b[0m\u001b[0mseq_length\u001b[0m\u001b[1;33m,\u001b[0m \u001b[0mlatent_dim\u001b[0m\u001b[1;33m)\u001b[0m\u001b[1;33m)\u001b[0m\u001b[1;33m\u001b[0m\u001b[0m\n\u001b[1;32m----> 2\u001b[1;33m \u001b[0mrepeat_d\u001b[0m \u001b[1;33m=\u001b[0m \u001b[0mK\u001b[0m\u001b[1;33m.\u001b[0m\u001b[0mrepeat\u001b[0m\u001b[1;33m(\u001b[0m\u001b[0minputs\u001b[0m\u001b[1;33m,\u001b[0m \u001b[1;36m2\u001b[0m\u001b[1;33m)\u001b[0m\u001b[1;33m\u001b[0m\u001b[0m\n\u001b[0m\u001b[0;32m      3\u001b[0m \u001b[0mprint\u001b[0m\u001b[1;33m(\u001b[0m\u001b[0mrepeat_d\u001b[0m\u001b[1;33m.\u001b[0m\u001b[0mget_shape\u001b[0m\u001b[1;33m(\u001b[0m\u001b[1;33m)\u001b[0m\u001b[1;33m)\u001b[0m\u001b[1;33m\u001b[0m\u001b[0m\n\u001b[0;32m      4\u001b[0m \u001b[1;31m# # repeat_d = TimeDistributed(repeat_d)\u001b[0m\u001b[1;33m\u001b[0m\u001b[1;33m\u001b[0m\u001b[0m\n\u001b[0;32m      5\u001b[0m \u001b[1;33m\u001b[0m\u001b[0m\n",
      "\u001b[1;32md:\\igs_projects\\nlp_nlu\\venv\\lib\\site-packages\\keras\\backend\\tensorflow_backend.py\u001b[0m in \u001b[0;36mrepeat\u001b[1;34m(x, n)\u001b[0m\n\u001b[0;32m   2133\u001b[0m         \u001b[0mA\u001b[0m \u001b[0mtensor\u001b[0m\u001b[1;33m.\u001b[0m\u001b[1;33m\u001b[0m\u001b[0m\n\u001b[0;32m   2134\u001b[0m     \"\"\"\n\u001b[1;32m-> 2135\u001b[1;33m     \u001b[1;32massert\u001b[0m \u001b[0mndim\u001b[0m\u001b[1;33m(\u001b[0m\u001b[0mx\u001b[0m\u001b[1;33m)\u001b[0m \u001b[1;33m==\u001b[0m \u001b[1;36m2\u001b[0m\u001b[1;33m\u001b[0m\u001b[0m\n\u001b[0m\u001b[0;32m   2136\u001b[0m     \u001b[0mx\u001b[0m \u001b[1;33m=\u001b[0m \u001b[0mtf\u001b[0m\u001b[1;33m.\u001b[0m\u001b[0mexpand_dims\u001b[0m\u001b[1;33m(\u001b[0m\u001b[0mx\u001b[0m\u001b[1;33m,\u001b[0m \u001b[1;36m1\u001b[0m\u001b[1;33m)\u001b[0m\u001b[1;33m\u001b[0m\u001b[0m\n\u001b[0;32m   2137\u001b[0m     \u001b[0mpattern\u001b[0m \u001b[1;33m=\u001b[0m \u001b[0mtf\u001b[0m\u001b[1;33m.\u001b[0m\u001b[0mstack\u001b[0m\u001b[1;33m(\u001b[0m\u001b[1;33m[\u001b[0m\u001b[1;36m1\u001b[0m\u001b[1;33m,\u001b[0m \u001b[0mn\u001b[0m\u001b[1;33m,\u001b[0m \u001b[1;36m1\u001b[0m\u001b[1;33m]\u001b[0m\u001b[1;33m)\u001b[0m\u001b[1;33m\u001b[0m\u001b[0m\n",
      "\u001b[1;31mAssertionError\u001b[0m: "
     ]
    }
   ],
   "source": [
    "inputs = Input(shape=(seq_length, latent_dim))\n",
    "repeat_d = K.repeat(inputs, 2)\n",
    "print(repeat_d.get_shape())\n",
    "# # repeat_d = TimeDistributed(repeat_d)\n",
    "\n",
    "\n",
    "# reshaped_e_inputs = Reshape((inputs.get_shape()[1] * inputs.get_shape()[2], ))(inputs)\n",
    "# print(reshaped_e_inputs.get_shape())\n",
    "# repeat_e =  RepeatVector(seq_length)(reshaped_e_inputs)\n",
    "# print(repeat_e.get_shape())\n",
    "# # repeat_e = Reshape((seq_length, seq_length, latent_dim))(repeat_e)\n",
    "\n",
    "# # outputs = Concatenate()([repeat_d, repeat_e])\n",
    "# outputs = np.concatenate([repeat_d, repeat_e])\n",
    "\n",
    "model = Model(inputs=inputs, outputs=repeat_d)\n",
    "model.compile(optimizer='rmsprop', loss='mse')\n",
    "output_array = model.predict(input_array)"
   ]
  },
  {
   "cell_type": "code",
   "execution_count": 82,
   "metadata": {},
   "outputs": [
    {
     "name": "stdout",
     "output_type": "stream",
     "text": [
      "[2 2] -> [[[2. 2.]\n",
      "  [6. 3.]\n",
      "  [7. 1.]]\n",
      "\n",
      " [[2. 2.]\n",
      "  [6. 3.]\n",
      "  [7. 1.]]\n",
      "\n",
      " [[2. 2.]\n",
      "  [6. 3.]\n",
      "  [7. 1.]]]\n"
     ]
    }
   ],
   "source": [
    "for a, b in zip(input_array[0], output_array[0]):\n",
    "    print(a, '->',  b)"
   ]
  },
  {
   "cell_type": "code",
   "execution_count": null,
   "metadata": {},
   "outputs": [],
   "source": []
  },
  {
   "cell_type": "markdown",
   "metadata": {},
   "source": [
    "# Attention layer test"
   ]
  },
  {
   "cell_type": "code",
   "execution_count": 51,
   "metadata": {},
   "outputs": [
    {
     "name": "stdout",
     "output_type": "stream",
     "text": [
      "__________________________________________________________________________________________________\n",
      "Layer (type)                    Output Shape         Param #     Connected to                     \n",
      "==================================================================================================\n",
      "input_6 (InputLayer)            (None, 5, 10)        0                                            \n",
      "__________________________________________________________________________________________________\n",
      "lambda_11 (Lambda)              (None, 5, 5, 10)     0           input_6[0][0]                    \n",
      "__________________________________________________________________________________________________\n",
      "lambda_12 (Lambda)              (None, 5, 5, 10)     0           input_6[0][0]                    \n",
      "__________________________________________________________________________________________________\n",
      "concatenate_6 (Concatenate)     (None, 5, 5, 20)     0           lambda_11[0][0]                  \n",
      "                                                                 lambda_12[0][0]                  \n",
      "__________________________________________________________________________________________________\n",
      "time_distributed_5 (TimeDistrib (None, 5, 5, 5)      105         concatenate_6[0][0]              \n",
      "==================================================================================================\n",
      "Total params: 105\n",
      "Trainable params: 105\n",
      "Non-trainable params: 0\n",
      "__________________________________________________________________________________________________\n",
      "None\n"
     ]
    }
   ],
   "source": [
    "inputs = Input(shape=(seq_length, latent_dim))\n",
    "repeat_d = Lambda(RepeatVectorLayer(seq_length, 2))(inputs)\n",
    "repeat_e = Lambda(RepeatVectorLayer(seq_length, 1))(inputs)\n",
    "concat_v = Concatenate()([repeat_d, repeat_e])\n",
    "dense_score_layer = TimeDistributed(Dense(latent_dim // 2, activation='tanh'))\n",
    "dense_score = dense_score_layer(concat_v)\n",
    "outputs = dense_score\n",
    "\n",
    "model = Model(inputs=inputs, outputs=outputs)\n",
    "model.compile(optimizer='rmsprop', loss='mse')\n",
    "print(model.summary())\n",
    "output_array = model.predict(input_array)"
   ]
  },
  {
   "cell_type": "code",
   "execution_count": 52,
   "metadata": {
    "scrolled": true
   },
   "outputs": [],
   "source": [
    "layer_outputs = list()\n",
    "for idx, l in enumerate(model.layers):\n",
    "    if idx == 0:\n",
    "        continue\n",
    "    layer_outputs.append(l.output)\n",
    "get_3rd_layer_output = K.function([model.layers[0].input],\n",
    "                                  layer_outputs)\n",
    "layer_output = get_3rd_layer_output([input_array])"
   ]
  },
  {
   "cell_type": "code",
   "execution_count": 53,
   "metadata": {},
   "outputs": [
    {
     "name": "stdout",
     "output_type": "stream",
     "text": [
      "\n",
      "[[4. 9. 2. 5. 5. 9. 6. 0. 6. 0.]\n",
      " [4. 9. 2. 5. 5. 9. 6. 0. 6. 0.]\n",
      " [4. 9. 2. 5. 5. 9. 6. 0. 6. 0.]\n",
      " [4. 9. 2. 5. 5. 9. 6. 0. 6. 0.]\n",
      " [4. 9. 2. 5. 5. 9. 6. 0. 6. 0.]]\n",
      "\n",
      "[[4. 9. 2. 5. 5. 9. 6. 0. 6. 0.]\n",
      " [4. 3. 8. 7. 6. 1. 1. 1. 5. 0.]\n",
      " [2. 3. 7. 1. 7. 3. 8. 5. 4. 7.]\n",
      " [3. 1. 5. 8. 9. 1. 1. 1. 6. 8.]\n",
      " [0. 9. 9. 8. 4. 5. 0. 6. 4. 2.]]\n",
      "\n",
      "[[4. 9. 2. 5. 5. 9. 6. 0. 6. 0. 4. 9. 2. 5. 5. 9. 6. 0. 6. 0.]\n",
      " [4. 9. 2. 5. 5. 9. 6. 0. 6. 0. 4. 3. 8. 7. 6. 1. 1. 1. 5. 0.]\n",
      " [4. 9. 2. 5. 5. 9. 6. 0. 6. 0. 2. 3. 7. 1. 7. 3. 8. 5. 4. 7.]\n",
      " [4. 9. 2. 5. 5. 9. 6. 0. 6. 0. 3. 1. 5. 8. 9. 1. 1. 1. 6. 8.]\n",
      " [4. 9. 2. 5. 5. 9. 6. 0. 6. 0. 0. 9. 9. 8. 4. 5. 0. 6. 4. 2.]]\n",
      "\n",
      "[[-0.93206555 -1.         -0.9967784   0.9914774   0.9949547 ]\n",
      " [-0.9999221  -1.         -0.9999996   0.79444325 -0.5474762 ]\n",
      " [-0.9999033  -1.         -0.9999963   0.28762528 -0.9344036 ]\n",
      " [-0.99998504 -1.         -1.          0.95935047 -0.7652957 ]\n",
      " [-0.99999994 -1.         -0.99999774 -0.5401838  -0.2644022 ]]\n",
      "\n"
     ]
    }
   ],
   "source": [
    "print()\n",
    "for l_output in layer_output:\n",
    "    print(l_output[0][0])\n",
    "    print('')"
   ]
  },
  {
   "cell_type": "code",
   "execution_count": 46,
   "metadata": {},
   "outputs": [
    {
     "data": {
      "text/plain": [
       "array([[2., 4.],\n",
       "       [2., 4.],\n",
       "       [2., 4.],\n",
       "       [2., 4.],\n",
       "       [2., 4.]], dtype=float32)"
      ]
     },
     "execution_count": 46,
     "metadata": {},
     "output_type": "execute_result"
    }
   ],
   "source": [
    "layer_output[0][0][0]"
   ]
  },
  {
   "cell_type": "code",
   "execution_count": null,
   "metadata": {},
   "outputs": [],
   "source": []
  }
 ],
 "metadata": {
  "kernelspec": {
   "display_name": "nlp_nlu",
   "language": "python",
   "name": "nlp_nlu"
  },
  "language_info": {
   "codemirror_mode": {
    "name": "ipython",
    "version": 3
   },
   "file_extension": ".py",
   "mimetype": "text/x-python",
   "name": "python",
   "nbconvert_exporter": "python",
   "pygments_lexer": "ipython3",
   "version": "3.6.3"
  }
 },
 "nbformat": 4,
 "nbformat_minor": 2
}
